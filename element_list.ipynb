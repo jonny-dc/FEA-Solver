{
 "cells": [
  {
   "cell_type": "markdown",
   "id": "7db2e57c",
   "metadata": {},
   "source": [
    "# FEA Solver Element List"
   ]
  },
  {
   "cell_type": "markdown",
   "id": "5d3cc565",
   "metadata": {},
   "source": [
    "This guide contains documentation and theory for each structural element available in the MATLAB FEA solver, as coded in the script FEA_Solver.m and its supporting functions. This document is meant to provide a reference for the theory behind each finite element type used in the code, as well as concretely how they should be defined in the solver input file. "
   ]
  },
  {
   "cell_type": "markdown",
   "id": "7ede07fe",
   "metadata": {},
   "source": [
    "**NOTE:** This document needs to be updated as soon as any new element capabilities are defined in the main solver code, so that no confusion arises from lack of proper documentation."
   ]
  },
  {
   "cell_type": "markdown",
   "id": "9d6fa5c7",
   "metadata": {},
   "source": [
    "## Table of Contents\n",
    "* [Input File Syntax](#Input_File_Syntax)\n",
    "* [List of Elements](#List_of_Elements)\n",
    "    * [BAR2D](#BAR2D)\n",
    "    * [BEAM2D](#BEAM2D)\n",
    "    * [BEAM3D](#BEAM3D)\n",
    "    * [2DSTRA](#2DSTRA)"
   ]
  },
  {
   "cell_type": "markdown",
   "id": "d2e54fb5",
   "metadata": {},
   "source": [
    "## Input File Syntax <a class=\"anchor\" id=\"Input_File_Syntax\"></a>"
   ]
  },
  {
   "cell_type": "markdown",
   "id": "7031134a",
   "metadata": {},
   "source": [
    "The solver input file is the starting point of any FEA analysis using this code, in which all relevant information will be defined. The code will throw errors for any obvious mistakes, such as defining an incorrect number of nodes to each element, but more subtle errors such as incorrect node ordering will be passed through the code and produce erroneous results. As such, it is vital to get the input file right first time, especially if the mesh is large and matrix inversion may take a while. Firstly, it is essential that the input file has a .txt extension, as the MATLAB function used to parse through the text cannot handle other file types. The data in the file is read line-by-line and fed into appropriate matrices containing the node, element, force and boundary condition information for the problem, delimited horizontally by spaces. As such, the input file will have the following overall syntax:"
   ]
  },
  {
   "cell_type": "code",
   "execution_count": 1,
   "id": "3966c5d7",
   "metadata": {},
   "outputs": [],
   "source": [
    "# **nodes\n",
    "# 1 0.0 0.0  # node number, x-coordinate, y-coordinate, (z-coordinate)\n",
    "# 2 0.0 1.0\n",
    "# ...\n",
    "# **elements\n",
    "# 1 100 1 ... 1e11 ...  # element number, element ID, nodes, element properties\n",
    "# 2 201 1 ... 1e11 ...\n",
    "# ...\n",
    "# **bcs\n",
    "# 1 1 0.0  # node number, degree of freedom, displacement constraint\n",
    "# 1 2 0.0\n",
    "# ...\n",
    "# **forces\n",
    "# 2 1 100.0  # node number, degree of freedom, force value\n",
    "# 2 2 100.0\n",
    "# ..."
   ]
  },
  {
   "cell_type": "markdown",
   "id": "a5e064f1",
   "metadata": {},
   "source": [
    "#### Nodes"
   ]
  },
  {
   "cell_type": "markdown",
   "id": "3da41a81",
   "metadata": {},
   "source": [
    "The node definitions are relatively straightforward. The nodes are each defined by a unique identifier number (the \"node number\" referenced everywhere else in the text), and then the x- and y-coordinates of the node are quoted afterwards in succession. The z-coordinate of the node is unnecessary in 2D problems, so it may be omitted in such cases. In order for the solver to produce meaningful results, each node must be unique: no two nodes can share the same coordinates."
   ]
  },
  {
   "cell_type": "markdown",
   "id": "adfdc37b",
   "metadata": {},
   "source": [
    "#### Elements"
   ]
  },
  {
   "cell_type": "markdown",
   "id": "0287a48c",
   "metadata": {},
   "source": [
    "The element definitions are the object of the subsequent parts of this document, and as such the details for each different element type can be found under the appropriate headings. However, the element definitions generally follow the syntax specified above in the specimen input file:"
   ]
  },
  {
   "cell_type": "code",
   "execution_count": 2,
   "id": "b314451d",
   "metadata": {},
   "outputs": [],
   "source": [
    "# element number, element ID, node numbers, element properties"
   ]
  },
  {
   "cell_type": "markdown",
   "id": "d652c9f7",
   "metadata": {},
   "source": [
    "The element number has much the same function as the node number above, and each element must similarly have a unique element number. The element ID is a 3-digit figure which specifies the element type (as listed below). There can then be as many node numbers as required for the chosen element type, and finally the element properties, which combine its material and geometrical characteristics."
   ]
  },
  {
   "cell_type": "markdown",
   "id": "6bc14e34",
   "metadata": {},
   "source": [
    "#### Boundary Conditions"
   ]
  },
  {
   "cell_type": "markdown",
   "id": "b3aec2d4",
   "metadata": {},
   "source": [
    "The boundary condition definitions are again relatively straightforward. Firstly, the file specifies the node on which the boundary condition is to be applied, then the relevant degree of freedom. Note that the numbers used to label each of the degrees of freedom will depend again on the elements being used in the solution, since each element type can define different numbers of degrees of freedom at the nodes. Finally, the displacement constraint value is specified (for rotational degrees of freedom, this must be quoted in radians)."
   ]
  },
  {
   "cell_type": "markdown",
   "id": "6397d8f6",
   "metadata": {},
   "source": [
    "#### Forces"
   ]
  },
  {
   "cell_type": "markdown",
   "id": "b3f03867",
   "metadata": {},
   "source": [
    "The force definitions work in much the same way as the boundary condition definitions. However, instead of a displacement value in the third slot, here a force must be provided. Importantly, this cannot be a magnitude, and the sign of the force must be included."
   ]
  },
  {
   "cell_type": "markdown",
   "id": "da99eaa5",
   "metadata": {},
   "source": [
    "## List of Elements <a id=\"List_of_Elements\"></a>"
   ]
  },
  {
   "cell_type": "markdown",
   "id": "cad332f3",
   "metadata": {},
   "source": [
    "### BAR2D <a id=\"BAR2D\"></a>"
   ]
  },
  {
   "cell_type": "markdown",
   "id": "9d9688b0",
   "metadata": {},
   "source": [
    "Element ID: 100. 2D bar element, allowing only uniaxial tension and compression along the element's length."
   ]
  },
  {
   "cell_type": "markdown",
   "id": "5e558705",
   "metadata": {},
   "source": [
    "#### Input Syntax"
   ]
  },
  {
   "cell_type": "markdown",
   "id": "73038ceb",
   "metadata": {},
   "source": [
    "This element has two nodes, with a single degree of freedom at each node. (However, note that this increases to two nodal degrees of freedom when the element stiffness matrix is translated into global coordinates, so the DOF numbering is \\[x=1, y=2\\].) The Young's modulus $E$ and cross-sectional area $A$ must be provided, so the input syntax is:"
   ]
  },
  {
   "cell_type": "code",
   "execution_count": null,
   "id": "7def2ab1",
   "metadata": {},
   "outputs": [],
   "source": [
    "# e 100 n1 n2 E A"
   ]
  },
  {
   "cell_type": "markdown",
   "id": "ca4e2e8f",
   "metadata": {},
   "source": [
    "#### Theory"
   ]
  },
  {
   "cell_type": "markdown",
   "id": "c7f2fcc2",
   "metadata": {},
   "source": [
    "In element coordinates, the element stiffness matrix is \n",
    "$$\n",
    "\\mathbf{k}^e = \\frac{EA}{L}\\left[\\begin{matrix}\n",
    "1 & -1 \\\\\n",
    "-1 & 1\n",
    "\\end{matrix}\\right]\n",
    "$$\n",
    "and the length and angle of the element with respect to the global coordinates can be found from the figures above by:\n",
    "$$\n",
    "L = \\sqrt{(x_j-x_i)^2+(y_j-y_i)^2}\n",
    "$$\n",
    "$$\n",
    "\\alpha = \\arctan{\\left(\\frac{y_j-y_i}{x_j-x_i}\\right)}\n",
    "$$\n",
    "Thus, denoting $\\cos{\\alpha}=c$ and $\\sin{\\alpha}=s$, the element stiffness matrix in global coordinates is:\n",
    "$$\n",
    "\\mathbf{K}^e = \\left[\\begin{matrix}\n",
    "c^2 & cs & -c^2 & -cs \\\\\n",
    "cs & s^2 & -cs & -s^2 \\\\\n",
    "-c^2 & -cs & c^2 & cs \\\\\n",
    "-cs & -s^2 & cs & s^2\n",
    "\\end{matrix}\\right]\n",
    "$$"
   ]
  },
  {
   "cell_type": "markdown",
   "id": "52d6d1ea",
   "metadata": {},
   "source": [
    "### BEAM2D <a id=\"BEAM2D\"></a>"
   ]
  },
  {
   "cell_type": "markdown",
   "id": "c4919860",
   "metadata": {},
   "source": [
    "Element ID: 101. 2D beam element, allowing uniaxial tension and compression, deflection, and rotation in a single plane."
   ]
  },
  {
   "cell_type": "markdown",
   "id": "3b15494d",
   "metadata": {},
   "source": [
    "#### Input Syntax"
   ]
  },
  {
   "cell_type": "markdown",
   "id": "a1900ff6",
   "metadata": {},
   "source": [
    "This element has two nodes, and three degrees of freedom at each node (\\[x=1, y=2, $\\theta$=3\\]). Here, the provided information must include the Young's modulus $E$, cross-sectional area $A$, and second moment of cross-sectional area $I$. The input syntax is:"
   ]
  },
  {
   "cell_type": "code",
   "execution_count": null,
   "id": "511ebc85",
   "metadata": {},
   "outputs": [],
   "source": [
    "# e 101 n1 n2 E A I"
   ]
  },
  {
   "cell_type": "markdown",
   "id": "45b05bf8",
   "metadata": {},
   "source": [
    "#### Theory"
   ]
  },
  {
   "cell_type": "markdown",
   "id": "265ff53e",
   "metadata": {},
   "source": [
    "In element coordinates, the element stiffness matrix is:\n",
    "$$\n",
    "\\mathbf{k}^e = \\left[\\begin{matrix}\n",
    "\\frac{EA}{L} & 0 & 0 & -\\frac{EA}{L} & 0 & 0 \\\\\n",
    "0 & \\frac{12EI}{L^3} & \\frac{6EI}{L^2} & 0 & -\\frac{12EI}{L^3} & \\frac{6EI}{L^2} \\\\\n",
    "0 & \\frac{6EI}{L^2} & \\frac{4EI}{L} & 0 & -\\frac{6EI}{L^2} & \\frac{2EI}{L} \\\\\n",
    "-\\frac{EA}{L} & 0 & 0 & \\frac{EA}{L} & 0 & 0 \\\\\n",
    "0 & -\\frac{12EI}{L^3} & -\\frac{6EI}{L^2} & 0 & \\frac{12EI}{L^3} & -\\frac{6EI}{L^2} \\\\\n",
    "0 & \\frac{6EI}{L^2} & \\frac{2EI}{L} & 0 & -\\frac{6EI}{L^2} & \\frac{4EI}{L}\n",
    "\\end{matrix}\\right]\n",
    "$$\n",
    "The length and angle of the element from the global coordinate system are found by:\n",
    "$$\n",
    "L = \\sqrt{(x_j-x_i)^2+(y_j-y_i)^2}\n",
    "$$\n",
    "$$\n",
    "\\alpha = \\arctan{\\left(\\frac{y_j-y_i}{x_j-x_i}\\right)}\n",
    "$$\n",
    "so that the transformation matrix from the element coordinates to the global coordinates is:\n",
    "$$\n",
    "\\mathbf{T} = \\left[\\begin{matrix}\n",
    "\\cos{\\alpha} & \\sin{\\alpha} & 0 & 0 & 0 & 0 \\\\\n",
    "-\\sin{\\alpha} & \\cos{\\alpha} & 0 & 0 & 0 & 0 \\\\\n",
    "0 & 0 & 1 & 0 & 0 & 0 \\\\\n",
    "0 & 0 & 0 & \\cos{\\alpha} & \\sin{\\alpha} & 0 \\\\\n",
    "0 & 0 & 0 & -\\sin{\\alpha} & \\cos{\\alpha} & 0 \\\\\n",
    "0 & 0 & 0 & 0 & 0 & 1\n",
    "\\end{matrix}\\right]\n",
    "$$\n",
    "The final element stiffness matrix in the global coordinates is then given by:\n",
    "$$\n",
    "\\mathbf{K}^e = \\mathbf{T}^T\\mathbf{k}^e\\mathbf{T}\n",
    "$$"
   ]
  },
  {
   "cell_type": "markdown",
   "id": "4371f573",
   "metadata": {},
   "source": [
    "### BEAM3D <a id=\"BEAM3D\"></a>"
   ]
  },
  {
   "cell_type": "markdown",
   "id": "f68dba26",
   "metadata": {},
   "source": [
    "Element ID: 102. 3D beam element, allowing forces and moments in all three principal directions."
   ]
  },
  {
   "cell_type": "markdown",
   "id": "15356d12",
   "metadata": {},
   "source": [
    "#### Input Syntax"
   ]
  },
  {
   "cell_type": "markdown",
   "id": "c27e82bd",
   "metadata": {},
   "source": [
    "This element has two nodes, with six degrees of freedom defined at each node: \\[x=1, y=2, z=3, $\\theta_x$=4, $\\theta_y$=5, $\\theta_z$=6\\]. The element properties provided in the definition must include the Young's modulus $E$, the Poisson's ratio $\\nu$, the cross-sectional area $A$, the second moment of area about the y-axis $I_y$, the second moment of area about the z-axis $I_z$, the torsional constant $J$, and the three components (in the global coordinate system) of a vector in the element's y-direction. Thus, the input syntax is:"
   ]
  },
  {
   "cell_type": "code",
   "execution_count": null,
   "id": "103a96dd",
   "metadata": {},
   "outputs": [],
   "source": [
    "# e 102 n1 n2 E nu A Iy Iz J y1 y2 y3"
   ]
  },
  {
   "cell_type": "markdown",
   "id": "e0a63392",
   "metadata": {},
   "source": [
    "#### Theory"
   ]
  },
  {
   "cell_type": "markdown",
   "id": "84bf7848",
   "metadata": {},
   "source": [
    "In element coordinates, the element stiffness matrix is:\n",
    "$$\n",
    "\\mathbf{k}^e = \\left[\\begin{matrix}\n",
    "\\frac{EA}{L} & 0 & 0 & 0 & 0 & 0 & -\\frac{EA}{L} & 0 & 0 & 0 & 0 & 0 \\\\\n",
    "0 & \\frac{12EI_z}{L^3} & 0 & 0 & 0 & \\frac{6EI_z}{L^2} & 0 & -\\frac{12EI_z}{L^3} & 0 & 0 & 0 & \\frac{6EI_z}{L^2} \\\\\n",
    "0 & 0 & \\frac{12EI_y}{L^3} & 0 & -\\frac{6EI_y}{L^2} & 0 & 0 & 0 & -\\frac{12EI_y}{L^3} & 0 & -\\frac{6EI_y}{L^2} & 0 \\\\\n",
    "0 & 0 & 0 & \\frac{GJ}{L} & 0 & 0 & 0 & 0 & 0 & -\\frac{GJ}{L} & 0 & 0 \\\\\n",
    "0 & 0 & -\\frac{6EI_y}{L^2} & 0 & \\frac{4EI_y}{L} & 0 & 0 & 0 & \\frac{6EI_y}{L^2} & 0 & \\frac{2EI_y}{L} & 0 \\\\\n",
    "0 & \\frac{6EI_z}{L^2} & 0 & 0 & 0 & \\frac{4EI_z}{L} & 0 & -\\frac{6EI_z}{L^2} & 0 & 0 & 0 & \\frac{2EI_z}{L} \\\\\n",
    "-\\frac{EA}{L} & 0 & 0 & 0 & 0 & 0 & \\frac{EA}{L} & 0 & 0 & 0 & 0 & 0 \\\\\n",
    "0 & -\\frac{12EI_z}{L^3} & 0 & 0 & 0 & -\\frac{6EI_z}{L^2} & 0 & \\frac{12EI_z}{L^3} & 0 & 0 & 0 & -\\frac{6EI_z}{L^2} \\\\\n",
    "0 & 0 & -\\frac{12EI_y}{L^3} & 0 & \\frac{6EI_y}{L^2} & 0 & 0 & 0 & \\frac{12EI_y}{L^3} & 0 & \\frac{6EI_y}{L^2} & 0 \\\\\n",
    "0 & 0 & 0 & -\\frac{GJ}{L} & 0 & 0 & 0 & 0 & 0 & \\frac{GJ}{L} & 0 & 0 \\\\\n",
    "0 & 0 & -\\frac{6EI_y}{L^2} & 0 & \\frac{2EI_y}{L} & 0 & 0 & 0 & \\frac{6EI_y}{L^2} & 0 & \\frac{4EI_y}{L} & 0 \\\\\n",
    "0 & \\frac{6EI_z}{L^2} & 0 & 0 & 0 & \\frac{2EI_z}{L} & 0 & -\\frac{6EI_z}{L^2} & 0 & 0 & 0 & \\frac{4EI_z}{L}\n",
    "\\end{matrix}\\right]\n",
    "$$"
   ]
  },
  {
   "cell_type": "markdown",
   "id": "075ffb55",
   "metadata": {},
   "source": [
    "In order to find the transformation matrix, we need the direction cosines of each of the element coordinate axes with each of the global coordinate axes, which are computed as:\n",
    "\n",
    "|    | $\\bar{x}$| $\\bar{y}$| $\\bar{z}$|\n",
    "| --- | --- | --- | --- |\n",
    "|$x$| $l_1$    | $m_1$   | $n_1$    |\n",
    "|$y$| $l_2$    | $m_2$   | $n_2$    |\n",
    "|$z$| $l_3$    | $m_3$   | $n_3$    |\n",
    "\n",
    "where the direction cosines are defined as $l_1=\\cos{(x,\\bar{x})}$, $m_1=\\cos{(x,\\bar{y})}$, $n_1=\\cos{(x,\\bar{z})}$, etc., and for a general vector $\\mathbf{v}$,\n",
    "$$\n",
    "\\cos{(\\mathbf{v},\\mathbf{e}_i)} = \\frac{\\mathbf{v}\\cdot\\mathbf{e}_i}{||\\mathbf{v}||}\n",
    "$$\n",
    "Then, the transformation matrix for a single node $p$ is:\n",
    "$$\n",
    "\\mathbf{T}_p = \\left[\\begin{matrix}\n",
    "l_1 & m_1 & n_1 & 0 & 0 & 0 \\\\\n",
    "l_2 & m_2 & n_2 & 0 & 0 & 0 \\\\\n",
    "l_3 & m_3 & n_3 & 0 & 0 & 0 \\\\\n",
    "0 & 0 & 0 & l_1 & m_1 & n_1 \\\\\n",
    "0 & 0 & 0 & l_2 & m_2 & n_2 \\\\\n",
    "0 & 0 & 0 & l_3 & m_3 & n_3\n",
    "\\end{matrix}\\right]\n",
    "$$\n",
    "and the full transformation matrix for element $i$ between nodes $i$ and $j$ is:\n",
    "$$\n",
    "\\mathbf{T} = \\left[\\begin{matrix}\n",
    "\\left[\\mathbf{T}_i\\right] & \\left[\\mathbf{0}\\right] \\\\\n",
    "\\left[\\mathbf{0}\\right] & \\left[\\mathbf{T}_j\\right]\n",
    "\\end{matrix}\\right]\n",
    "$$\n",
    "Finally, the element stiffness matrix in the global coordinates is given by\n",
    "$$\n",
    "\\mathbf{K}^e = \\mathbf{T}^T\\mathbf{k}^e\\mathbf{T}\n",
    "$$"
   ]
  },
  {
   "cell_type": "markdown",
   "id": "6d60e6c0",
   "metadata": {},
   "source": [
    "### 2DSTRA <a id=\"2DSTRA\"></a>"
   ]
  },
  {
   "cell_type": "markdown",
   "id": "26b7fddb",
   "metadata": {},
   "source": [
    "Element ID: 201. 2D plane-strain quadrilateral element."
   ]
  },
  {
   "cell_type": "markdown",
   "id": "c5a526c8",
   "metadata": {},
   "source": [
    "#### Input Syntax"
   ]
  },
  {
   "cell_type": "markdown",
   "id": "f6b1fb06",
   "metadata": {},
   "source": [
    "This element has four nodes, each with two degrees of freedom: \\[x=1, y=1\\]. The necessary element properties here are only the Young's modulus $E$ and the Poisson's ratio $\\nu$, giving the following input syntax:"
   ]
  },
  {
   "cell_type": "code",
   "execution_count": 3,
   "id": "cb0257e2",
   "metadata": {},
   "outputs": [],
   "source": [
    "# e 201 n1 n2 n3 n4 E nu"
   ]
  },
  {
   "cell_type": "markdown",
   "id": "4f3af7c7",
   "metadata": {},
   "source": [
    "Note that the nodes must be ordered in an anticlockwise direction. It is unimportant which node exactly is used to start the definition (i.e. which node is chosen as $n_1$), but the resulting definition must traverse the element perimeter in an anticlockwise fashion."
   ]
  },
  {
   "cell_type": "markdown",
   "id": "cc6c9482",
   "metadata": {},
   "source": [
    "#### Theory"
   ]
  },
  {
   "cell_type": "markdown",
   "id": "2fd1d364",
   "metadata": {},
   "source": [
    "For finite-element calculations, the principle of virtual work - expressed in terms of stress and strain for each element $m$ - is written as\n",
    "$$\n",
    "\\sum_m\\int_{V^{(m)}}\\delta\\varepsilon^T\\sigma dV = \\sum_m\\int_{V^{(m)}}\\delta\\mathbf{u}^T\\mathbf{b} dV + \\sum_m\\int_{A^{(m)}}\\delta\\mathbf{u}^T\\mathbf{t} dA + \\sum\\delta\\mathbf{u}^T\\mathbf{f}\n",
    "$$\n",
    "with body forces $\\mathbf{b}$, traction forces $\\mathbf{t}$, and nodal forces $\\mathbf{f}$."
   ]
  },
  {
   "cell_type": "markdown",
   "id": "566ce96d",
   "metadata": {},
   "source": [
    "The key step in solving this equation is to discretise and use isoparametric shape functions. Introduce a coordinate mapping $N$, taking a general quadrilateral element to an origin-centred square."
   ]
  },
  {
   "cell_type": "markdown",
   "id": "633fe042",
   "metadata": {},
   "source": [
    "For the case of linear plane-strain quadrilateral elements, one way to perform this mapping is to introduce the following shape functions from natural coordinates $(\\xi,\\eta)$ to ordinary coordinates $(x,y)$:\n",
    "$$\n",
    "N_1 = \\frac{1}{4}(1-\\xi)(1-\\eta)\n",
    "$$\n",
    "$$\n",
    "N_2 = \\frac{1}{4}(1+\\xi)(1-\\eta)\n",
    "$$\n",
    "$$\n",
    "N_3 = \\frac{1}{4}(1+\\xi)(1+\\eta)\n",
    "$$\n",
    "$$\n",
    "N_4 = \\frac{1}{4}(1-\\xi)(1+\\eta)\n",
    "$$\n",
    "If the locations of the nodes are known in ordinary coordinates, i.e. $(x_i,y_i)$, and there is a target location $(\\xi,\\eta)$ in natural coordinates, then the corresponding ordinary coordinates are\n",
    "$$\n",
    "x = N_1(\\xi,\\eta)x_1 + N_2(\\xi,\\eta)x_2 + N_3(\\xi,\\eta)x_3 + N_4(\\xi,\\eta)x_4\n",
    "$$\n",
    "$$\n",
    "y = N_1(\\xi,\\eta)y_1 + N_2(\\xi,\\eta)y_2 + N_3(\\xi,\\eta)y_3 + N_4(\\xi,\\eta)y_4\n",
    "$$\n",
    "This formulation also works for displacements:\n",
    "$$\n",
    "u = N_i(\\xi,\\eta)u_i, \\quad v = N_i(\\xi,\\eta)v_i\n",
    "$$\n",
    "With the displacements found, the strains are given by:\n",
    "$$\n",
    "\\varepsilon_{ij} = \\left[\\begin{matrix}\n",
    "\\varepsilon_{11} \\\\\n",
    "\\varepsilon_{22} \\\\\n",
    "\\varepsilon_{12}\n",
    "\\end{matrix}\\right] = \\left[\\begin{matrix}\n",
    "\\partial u/\\partial x \\\\\n",
    "\\partial v/\\partial y \\\\\n",
    "\\frac{1}{2}\\left(\\frac{\\partial u}{\\partial y}+\\frac{\\partial v}{\\partial x}\\right)\n",
    "\\end{matrix}\\right]\n",
    "$$\n",
    "Defining the Jacobian $\\mathbf{J}$ of the shape functions:\n",
    "$$\n",
    "\\left[\\begin{matrix}\n",
    "\\frac{\\partial u}{\\partial\\xi} \\\\\n",
    "\\frac{\\partial u}{\\partial\\eta}\n",
    "\\end{matrix}\\right] = \\left[\\begin{matrix}\n",
    "\\frac{\\partial x}{\\partial\\xi} & \\frac{\\partial y}{\\partial\\xi} \\\\\n",
    "\\frac{\\partial x}{\\partial\\eta} & \\frac{\\partial y}{\\partial\\eta}\n",
    "\\end{matrix}\\right]\\left[\\begin{matrix}\n",
    "\\frac{\\partial u}{\\partial x} \\\\\n",
    "\\frac{\\partial u}{\\partial y}\n",
    "\\end{matrix}\\right] = \\left[\\begin{matrix}\n",
    "J_{11} & J_{12} \\\\\n",
    "J_{21} & J_{22}\n",
    "\\end{matrix}\\right]\\left[\\begin{matrix}\n",
    "\\frac{\\partial u}{\\partial x} \\\\\n",
    "\\frac{\\partial u}{\\partial y}\n",
    "\\end{matrix}\\right]\n",
    "$$"
   ]
  },
  {
   "cell_type": "markdown",
   "id": "ea32e4c7",
   "metadata": {},
   "source": [
    "With the nodal coordinates collected in the following matrix:\n",
    "$$\n",
    "\\mathbf{x} = \\left[\\begin{matrix}\n",
    "x_1 & x_2 & x_3 & x_4 \\\\\n",
    "y_1 & y_2 & y_3 & y_4\n",
    "\\end{matrix}\\right]^T\n",
    "$$\n",
    "and the gradient of the shape functions defined as\n",
    "$$\n",
    "\\nabla\\mathbf{N}(\\xi,\\eta) = \\left[\\begin{matrix}\n",
    "\\partial N_1/\\partial\\xi & \\partial N_2/\\partial\\xi & \\partial N_3/\\partial\\xi & \\partial N_4/\\partial\\xi \\\\\n",
    "\\partial N_1/\\partial\\eta & \\partial N_2/\\partial\\eta & \\partial N_3/\\partial\\eta & \\partial N_4/\\partial\\eta\n",
    "\\end{matrix}\\right]\n",
    "$$\n",
    "the Jacobian is given as $\\mathbf{J} = \\nabla\\mathbf{N}\\mathbf{x}$. Then, the partial derivatives in the ordinary coordinates can be written as\n",
    "$$\n",
    "\\left[\\begin{matrix}\n",
    "\\frac{\\partial u}{\\partial x} \\\\\n",
    "\\frac{\\partial u}{\\partial y}\n",
    "\\end{matrix}\\right] = \\mathbf{J}^{-1}\\nabla\\mathbf{N}\\left[\\begin{matrix}\n",
    "u_1 & u_2 & u_3 & u_4\n",
    "\\end{matrix}\\right]^T\n",
    "$$\n",
    "$$\n",
    "\\left[\\begin{matrix}\n",
    "\\frac{\\partial v}{\\partial x} \\\\\n",
    "\\frac{\\partial v}{\\partial y}\n",
    "\\end{matrix}\\right] = \\mathbf{J}^{-1}\\nabla\\mathbf{N}\\left[\\begin{matrix}\n",
    "v_1 & v_2 & v_3 & v_4\n",
    "\\end{matrix}\\right]^T\n",
    "$$"
   ]
  },
  {
   "cell_type": "markdown",
   "id": "b40cc789",
   "metadata": {},
   "source": [
    "Defining $\\mathbf{M}=\\mathbf{J}^{-1}\\nabla\\mathbf{N}$, the strains are:\n",
    "$$\n",
    "\\left[\\begin{matrix}\n",
    "\\varepsilon_{11} \\\\\n",
    "\\varepsilon_{22} \\\\\n",
    "\\varepsilon_{12}\n",
    "\\end{matrix}\\right] = \\left[\\begin{matrix}\n",
    "M_{11} & 0 & M_{12} & 0 & M_{13} & 0 & M_{14} & 0 \\\\\n",
    "0 & M_{21} & 0 & M_{22} & 0 & M_{23} & 0 & M_{24} \\\\\n",
    "M_{11} & M_{21} & M_{12} & M_{22} & M_{13} & M_{23} & M_{14} & M_{24}\n",
    "\\end{matrix}\\right]\\left[\\begin{matrix}\n",
    "u_1 \\\\ v_1 \\\\ u_2 \\\\ v_2 \\\\ u_3 \\\\ v_3 \\\\u_4 \\\\ v_4\n",
    "\\end{matrix}\\right]\n",
    "$$\n",
    "$$\n",
    "\\varepsilon^{(m)} = \\mathbf{B}^{(m)}\\mathbf{U}^{(m)}\n",
    "$$"
   ]
  },
  {
   "cell_type": "markdown",
   "id": "1018002f",
   "metadata": {},
   "source": [
    "With the strain found, Hooke's law gives the stress as:\n",
    "$$\n",
    "\\sigma^{(m)} = \\mathbf{C}^{(m)}\\varepsilon^{(m)} = \\mathbf{C}^{(m)}\\mathbf{B}^{(m)}\\mathbf{U}^{(m)}\n",
    "$$\n",
    "where the substantive matrix is\n",
    "$$\n",
    "\\mathbf{C}^{(m)} = \\frac{E}{(1+\\nu)(1-2\\nu)}\\left[\\begin{matrix}\n",
    "1-\\nu & \\nu & 0 \\\\\n",
    "\\nu & 1-\\nu & 0 \\\\\n",
    "0 & 0 & \\frac{1}{2}-\\nu\n",
    "\\end{matrix}\\right]\n",
    "$$\n",
    "Using Gaussian quadrature to evaluate the first integral in the principle of virtual work, and ignoring the body and traction forces, the final formulation is then\n",
    "$$\n",
    "\\left[\\sum_p^{np}\\mathbf{B}^T\\mathbf{C}\\mathbf{B}Jw_p\\right]\\mathbf{U} = \\mathbf{f}\n",
    "$$\n",
    "which can be written in a familiar form as\n",
    "$$\n",
    "\\mathbf{F} = \\mathbf{K}\\mathbf{U}\n",
    "$$"
   ]
  },
  {
   "cell_type": "code",
   "execution_count": null,
   "id": "c11a1b69",
   "metadata": {},
   "outputs": [],
   "source": []
  }
 ],
 "metadata": {
  "kernelspec": {
   "display_name": "Python 3 (ipykernel)",
   "language": "python",
   "name": "python3"
  },
  "language_info": {
   "codemirror_mode": {
    "name": "ipython",
    "version": 3
   },
   "file_extension": ".py",
   "mimetype": "text/x-python",
   "name": "python",
   "nbconvert_exporter": "python",
   "pygments_lexer": "ipython3",
   "version": "3.12.7"
  }
 },
 "nbformat": 4,
 "nbformat_minor": 5
}
